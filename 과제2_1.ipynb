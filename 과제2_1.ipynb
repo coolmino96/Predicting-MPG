{
  "nbformat": 4,
  "nbformat_minor": 0,
  "metadata": {
    "colab": {
      "name": "과제2-1.ipynb",
      "provenance": [],
      "authorship_tag": "ABX9TyOKxWdm9ucOToGuzMmd5x12",
      "include_colab_link": true
    },
    "kernelspec": {
      "name": "python3",
      "display_name": "Python 3"
    },
    "accelerator": "GPU"
  },
  "cells": [
    {
      "cell_type": "markdown",
      "metadata": {
        "id": "view-in-github",
        "colab_type": "text"
      },
      "source": [
        "<a href=\"https://colab.research.google.com/github/coolmino96/Predicting-MPG/blob/master/%EA%B3%BC%EC%A0%9C2_1.ipynb\" target=\"_parent\"><img src=\"https://colab.research.google.com/assets/colab-badge.svg\" alt=\"Open In Colab\"/></a>"
      ]
    },
    {
      "cell_type": "code",
      "metadata": {
        "id": "v-qvqmyge_72"
      },
      "source": [
        "import tensorflow as tf"
      ],
      "execution_count": 8,
      "outputs": []
    },
    {
      "cell_type": "code",
      "metadata": {
        "id": "DrfYfmzwfrbt",
        "outputId": "824c6ff8-8a2e-4300-ce09-d7e145a85bbd",
        "colab": {
          "base_uri": "https://localhost:8080/",
          "height": 35
        }
      },
      "source": [
        "tf.__version__ "
      ],
      "execution_count": 9,
      "outputs": [
        {
          "output_type": "execute_result",
          "data": {
            "application/vnd.google.colaboratory.intrinsic+json": {
              "type": "string"
            },
            "text/plain": [
              "'2.3.0'"
            ]
          },
          "metadata": {
            "tags": []
          },
          "execution_count": 9
        }
      ]
    },
    {
      "cell_type": "code",
      "metadata": {
        "id": "lHwLKFObfwhn",
        "outputId": "5de49d8c-aa49-465d-be68-0481db4657ca",
        "colab": {
          "base_uri": "https://localhost:8080/",
          "height": 53
        }
      },
      "source": [
        "mnist = tf.keras.datasets.mnist\n",
        "(x_train, y_train), (x_test, y_test) = mnist.load_data()\n",
        "x_train, x_test = x_train / 255.0, x_test / 255.0"
      ],
      "execution_count": 10,
      "outputs": [
        {
          "output_type": "stream",
          "text": [
            "Downloading data from https://storage.googleapis.com/tensorflow/tf-keras-datasets/mnist.npz\n",
            "11493376/11490434 [==============================] - 0s 0us/step\n"
          ],
          "name": "stdout"
        }
      ]
    },
    {
      "cell_type": "markdown",
      "metadata": {
        "id": "jlzLvruof5vS"
      },
      "source": [
        "**1. Layer의 갯수 1개 vs 3개**"
      ]
    },
    {
      "cell_type": "code",
      "metadata": {
        "id": "nrBb3Rk2f_Cu"
      },
      "source": [
        "model = tf.keras.models.Sequential([\n",
        "                                    \n",
        "  tf.keras.layers.Flatten(input_shape=(28, 28)),\n",
        "  tf.keras.layers.Dense(128),\n",
        "  tf.keras.layers.Dense(10, activation='softmax')\n",
        "])\n",
        "\n",
        "model.compile(optimizer='adam',\n",
        "              loss='sparse_categorical_crossentropy',\n",
        "              metrics=['accuracy'])"
      ],
      "execution_count": 27,
      "outputs": []
    },
    {
      "cell_type": "code",
      "metadata": {
        "id": "NZiYgihuwJ3J",
        "outputId": "7adfba99-c014-4f38-90e4-02c5345994fb",
        "colab": {
          "base_uri": "https://localhost:8080/",
          "height": 233
        }
      },
      "source": [
        "model.fit(x_train, y_train, epochs=5)\n",
        "model.evaluate(x_test,  y_test, verbose=2)"
      ],
      "execution_count": 28,
      "outputs": [
        {
          "output_type": "stream",
          "text": [
            "Epoch 1/5\n",
            "1875/1875 [==============================] - 3s 2ms/step - loss: 0.3596 - accuracy: 0.8975\n",
            "Epoch 2/5\n",
            "1875/1875 [==============================] - 3s 2ms/step - loss: 0.2990 - accuracy: 0.9160\n",
            "Epoch 3/5\n",
            "1875/1875 [==============================] - 3s 2ms/step - loss: 0.2868 - accuracy: 0.9204\n",
            "Epoch 4/5\n",
            "1875/1875 [==============================] - 3s 2ms/step - loss: 0.2822 - accuracy: 0.9206\n",
            "Epoch 5/5\n",
            "1875/1875 [==============================] - 3s 2ms/step - loss: 0.2765 - accuracy: 0.9231\n",
            "313/313 - 0s - loss: 0.2729 - accuracy: 0.9272\n"
          ],
          "name": "stdout"
        },
        {
          "output_type": "execute_result",
          "data": {
            "text/plain": [
              "[0.2729000747203827, 0.9272000193595886]"
            ]
          },
          "metadata": {
            "tags": []
          },
          "execution_count": 28
        }
      ]
    },
    {
      "cell_type": "code",
      "metadata": {
        "id": "JeX44VZCgRhB",
        "outputId": "aebeb0a8-1965-4879-9b56-3e4d2d8465ed",
        "colab": {
          "base_uri": "https://localhost:8080/",
          "height": 233
        }
      },
      "source": [
        "model = tf.keras.models.Sequential([\n",
        "  tf.keras.layers.Flatten(input_shape=(28, 28)),\n",
        "  tf.keras.layers.Dense(128),\n",
        "  tf.keras.layers.Dense(128),\n",
        "  tf.keras.layers.Dense(128),\n",
        "  tf.keras.layers.Dense(10, activation='softmax')\n",
        "])\n",
        "\n",
        "model.compile(optimizer='adam',\n",
        "              loss='sparse_categorical_crossentropy',\n",
        "              metrics=['accuracy'])\n",
        "\n",
        "model.fit(x_train, y_train, epochs=5)\n",
        "model.evaluate(x_test,  y_test, verbose=2)"
      ],
      "execution_count": 29,
      "outputs": [
        {
          "output_type": "stream",
          "text": [
            "Epoch 1/5\n",
            "1875/1875 [==============================] - 4s 2ms/step - loss: 0.3916 - accuracy: 0.8867\n",
            "Epoch 2/5\n",
            "1875/1875 [==============================] - 4s 2ms/step - loss: 0.3345 - accuracy: 0.9044\n",
            "Epoch 3/5\n",
            "1875/1875 [==============================] - 4s 2ms/step - loss: 0.3192 - accuracy: 0.9087\n",
            "Epoch 4/5\n",
            "1875/1875 [==============================] - 4s 2ms/step - loss: 0.3115 - accuracy: 0.9122\n",
            "Epoch 5/5\n",
            "1875/1875 [==============================] - 4s 2ms/step - loss: 0.3017 - accuracy: 0.9140\n",
            "313/313 - 1s - loss: 0.3369 - accuracy: 0.9053\n"
          ],
          "name": "stdout"
        },
        {
          "output_type": "execute_result",
          "data": {
            "text/plain": [
              "[0.3369215726852417, 0.9053000211715698]"
            ]
          },
          "metadata": {
            "tags": []
          },
          "execution_count": 29
        }
      ]
    },
    {
      "cell_type": "markdown",
      "metadata": {
        "id": "vmSCThVSgnV_"
      },
      "source": [
        "*   layer를 늘리면 당연히 결과가 좋을 줄 알았는데 아닙니다.\n",
        "*   결과를 보면 사실 크게 차이가 없다는 것을 알 수 있습니다.\n",
        "*   train set보다 test set의 loss가 더 낮고, accuracy도 더 높습니다. 일종의 underfitting 이라고 볼 수 있습니다.\n",
        "*   일반화 성능보다, 일단 train set 자체를 더 잘 학습하는 게 중요하며, 위 결과처럼 layer만 늘린다고 성능이 좋지는 않습니다\n",
        "*   딥러닝의 Vanishing Gradients 문제로 인해서 layer를 늘린만큼 학습이 잘 되도록 몇가지 변화를 주어야 합니다."
      ]
    },
    {
      "cell_type": "markdown",
      "metadata": {
        "id": "Y3NVxfIdhVnv"
      },
      "source": [
        "**2. ReLU의 유무**"
      ]
    },
    {
      "cell_type": "code",
      "metadata": {
        "id": "Xwys2Kf4hZ56",
        "outputId": "0d81c417-a570-484c-de7f-37db4abb4220",
        "colab": {
          "base_uri": "https://localhost:8080/",
          "height": 233
        }
      },
      "source": [
        "model = tf.keras.models.Sequential([\n",
        "  tf.keras.layers.Flatten(input_shape=(28, 28)),\n",
        "  tf.keras.layers.Dense(128, activation='relu'),\n",
        "  tf.keras.layers.Dense(128, activation='relu'),\n",
        "  tf.keras.layers.Dense(128, activation='relu'),\n",
        "  tf.keras.layers.Dense(10, activation='softmax')\n",
        "])\n",
        "\n",
        "model.compile(optimizer='adam',\n",
        "              loss='sparse_categorical_crossentropy',\n",
        "              metrics=['accuracy'])\n",
        "\n",
        "model.fit(x_train, y_train, epochs=5)\n",
        "model.evaluate(x_test,  y_test, verbose=2)"
      ],
      "execution_count": 30,
      "outputs": [
        {
          "output_type": "stream",
          "text": [
            "Epoch 1/5\n",
            "1875/1875 [==============================] - 4s 2ms/step - loss: 0.2239 - accuracy: 0.9333\n",
            "Epoch 2/5\n",
            "1875/1875 [==============================] - 4s 2ms/step - loss: 0.0999 - accuracy: 0.9688\n",
            "Epoch 3/5\n",
            "1875/1875 [==============================] - 4s 2ms/step - loss: 0.0716 - accuracy: 0.9784\n",
            "Epoch 4/5\n",
            "1875/1875 [==============================] - 4s 2ms/step - loss: 0.0551 - accuracy: 0.9831\n",
            "Epoch 5/5\n",
            "1875/1875 [==============================] - 4s 2ms/step - loss: 0.0467 - accuracy: 0.9855\n",
            "313/313 - 1s - loss: 0.0796 - accuracy: 0.9755\n"
          ],
          "name": "stdout"
        },
        {
          "output_type": "execute_result",
          "data": {
            "text/plain": [
              "[0.07956139743328094, 0.9754999876022339]"
            ]
          },
          "metadata": {
            "tags": []
          },
          "execution_count": 30
        }
      ]
    },
    {
      "cell_type": "markdown",
      "metadata": {
        "id": "Wo4WsRZkhqoF"
      },
      "source": [
        "\n",
        "\n",
        "*   Train set의 학습자체도 빠르고 성능이 좋습니다.\n",
        "*   Test set의 결과도 아주 좋아졌습니다.\n",
        "\n"
      ]
    },
    {
      "cell_type": "markdown",
      "metadata": {
        "id": "Ld1ma9CUhyiG"
      },
      "source": [
        "**3. Dropout의 유무**"
      ]
    },
    {
      "cell_type": "code",
      "metadata": {
        "id": "BqWHE4dBh00e",
        "outputId": "d5ac989a-ad2c-4509-a6e4-3b7839061ee8",
        "colab": {
          "base_uri": "https://localhost:8080/",
          "height": 233
        }
      },
      "source": [
        "model = tf.keras.models.Sequential([\n",
        "  tf.keras.layers.Flatten(input_shape=(28, 28)),\n",
        "  tf.keras.layers.Dense(128, activation='relu'),\n",
        "  tf.keras.layers.Dense(10, activation='softmax')\n",
        "])\n",
        "\n",
        "model.compile(optimizer='adam',\n",
        "              loss='sparse_categorical_crossentropy',\n",
        "              metrics=['accuracy'])\n",
        "\n",
        "model.fit(x_train, y_train, epochs=5)\n",
        "model.evaluate(x_test,  y_test, verbose=2)"
      ],
      "execution_count": 31,
      "outputs": [
        {
          "output_type": "stream",
          "text": [
            "Epoch 1/5\n",
            "1875/1875 [==============================] - 3s 2ms/step - loss: 0.2599 - accuracy: 0.9258\n",
            "Epoch 2/5\n",
            "1875/1875 [==============================] - 3s 2ms/step - loss: 0.1140 - accuracy: 0.9659\n",
            "Epoch 3/5\n",
            "1875/1875 [==============================] - 3s 2ms/step - loss: 0.0769 - accuracy: 0.9768\n",
            "Epoch 4/5\n",
            "1875/1875 [==============================] - 3s 2ms/step - loss: 0.0570 - accuracy: 0.9826\n",
            "Epoch 5/5\n",
            "1875/1875 [==============================] - 4s 2ms/step - loss: 0.0443 - accuracy: 0.9866\n",
            "313/313 - 1s - loss: 0.0716 - accuracy: 0.9793\n"
          ],
          "name": "stdout"
        },
        {
          "output_type": "execute_result",
          "data": {
            "text/plain": [
              "[0.07163380831480026, 0.9793000221252441]"
            ]
          },
          "metadata": {
            "tags": []
          },
          "execution_count": 31
        }
      ]
    },
    {
      "cell_type": "code",
      "metadata": {
        "id": "jeIKBwD-h5A2",
        "outputId": "19d820a0-91c7-43ba-f654-631a407bf9bf",
        "colab": {
          "base_uri": "https://localhost:8080/",
          "height": 233
        }
      },
      "source": [
        "model = tf.keras.models.Sequential([\n",
        "  tf.keras.layers.Flatten(input_shape=(28, 28)),\n",
        "  tf.keras.layers.Dense(128, activation='relu'),\n",
        "  tf.keras.layers.Dropout(0.5),\n",
        "  tf.keras.layers.Dense(10, activation='softmax')\n",
        "])\n",
        "\n",
        "model.compile(optimizer='adam',\n",
        "              loss='sparse_categorical_crossentropy',\n",
        "              metrics=['accuracy'])\n",
        "\n",
        "model.fit(x_train, y_train, epochs=5)\n",
        "model.evaluate(x_test,  y_test, verbose=2)"
      ],
      "execution_count": 32,
      "outputs": [
        {
          "output_type": "stream",
          "text": [
            "Epoch 1/5\n",
            "1875/1875 [==============================] - 4s 2ms/step - loss: 0.3969 - accuracy: 0.8823\n",
            "Epoch 2/5\n",
            "1875/1875 [==============================] - 3s 2ms/step - loss: 0.2197 - accuracy: 0.9358\n",
            "Epoch 3/5\n",
            "1875/1875 [==============================] - 3s 2ms/step - loss: 0.1829 - accuracy: 0.9453\n",
            "Epoch 4/5\n",
            "1875/1875 [==============================] - 3s 2ms/step - loss: 0.1601 - accuracy: 0.9516\n",
            "Epoch 5/5\n",
            "1875/1875 [==============================] - 3s 2ms/step - loss: 0.1483 - accuracy: 0.9551\n",
            "313/313 - 0s - loss: 0.0884 - accuracy: 0.9732\n"
          ],
          "name": "stdout"
        },
        {
          "output_type": "execute_result",
          "data": {
            "text/plain": [
              "[0.08835285902023315, 0.9732000231742859]"
            ]
          },
          "metadata": {
            "tags": []
          },
          "execution_count": 32
        }
      ]
    },
    {
      "cell_type": "code",
      "metadata": {
        "id": "CMwq-mTPiBs5",
        "outputId": "b20a3330-2aeb-4734-9290-03564f99e6a7",
        "colab": {
          "base_uri": "https://localhost:8080/",
          "height": 233
        }
      },
      "source": [
        "model = tf.keras.models.Sequential([\n",
        "  tf.keras.layers.Flatten(input_shape=(28, 28)),\n",
        "  tf.keras.layers.Dense(128, activation='relu'),\n",
        "  tf.keras.layers.Dropout(0.2),\n",
        "  tf.keras.layers.Dense(10, activation='softmax')\n",
        "])\n",
        "\n",
        "model.compile(optimizer='adam',\n",
        "              loss='sparse_categorical_crossentropy',\n",
        "              metrics=['accuracy'])\n",
        "\n",
        "model.fit(x_train, y_train, epochs=5)\n",
        "model.evaluate(x_test,  y_test, verbose=2)"
      ],
      "execution_count": 33,
      "outputs": [
        {
          "output_type": "stream",
          "text": [
            "Epoch 1/5\n",
            "1875/1875 [==============================] - 3s 2ms/step - loss: 0.2929 - accuracy: 0.9146\n",
            "Epoch 2/5\n",
            "1875/1875 [==============================] - 3s 2ms/step - loss: 0.1410 - accuracy: 0.9574\n",
            "Epoch 3/5\n",
            "1875/1875 [==============================] - 3s 2ms/step - loss: 0.1077 - accuracy: 0.9675\n",
            "Epoch 4/5\n",
            "1875/1875 [==============================] - 3s 2ms/step - loss: 0.0877 - accuracy: 0.9732\n",
            "Epoch 5/5\n",
            "1875/1875 [==============================] - 3s 2ms/step - loss: 0.0757 - accuracy: 0.9761\n",
            "313/313 - 1s - loss: 0.0711 - accuracy: 0.9782\n"
          ],
          "name": "stdout"
        },
        {
          "output_type": "execute_result",
          "data": {
            "text/plain": [
              "[0.0711447224020958, 0.9782000184059143]"
            ]
          },
          "metadata": {
            "tags": []
          },
          "execution_count": 33
        }
      ]
    },
    {
      "cell_type": "markdown",
      "metadata": {
        "id": "JV2i_uF-iklb"
      },
      "source": [
        "\n",
        "\n",
        "\n",
        "*   Dropout가 없을 때가 약각 학습자체도 빠르고 성능이 좋습니다.\n",
        "*   Dropout이 0.5보다 0.2가 정확도가 약간 높게 나타납니다.\n",
        "\n"
      ]
    },
    {
      "cell_type": "markdown",
      "metadata": {
        "id": "xku1mEh2jJi0"
      },
      "source": [
        "**4. relu가 있고 없고 dropout**"
      ]
    },
    {
      "cell_type": "code",
      "metadata": {
        "id": "4HuY631rjL7k",
        "outputId": "a651ce0d-5c65-4b60-f6fe-a6382f8a3ff9",
        "colab": {
          "base_uri": "https://localhost:8080/",
          "height": 233
        }
      },
      "source": [
        "model = tf.keras.models.Sequential([\n",
        "  tf.keras.layers.Flatten(input_shape=(28, 28)),\n",
        "  tf.keras.layers.Dense(128),\n",
        "  tf.keras.layers.Dropout(0.2),\n",
        "  tf.keras.layers.Dense(10, activation='softmax')\n",
        "])\n",
        "\n",
        "model.compile(optimizer='adam',\n",
        "              loss='sparse_categorical_crossentropy',\n",
        "              metrics=['accuracy'])\n",
        "\n",
        "model.fit(x_train, y_train, epochs=5)\n",
        "model.evaluate(x_test,  y_test, verbose=2)"
      ],
      "execution_count": 34,
      "outputs": [
        {
          "output_type": "stream",
          "text": [
            "Epoch 1/5\n",
            "1875/1875 [==============================] - 3s 2ms/step - loss: 0.3839 - accuracy: 0.8902\n",
            "Epoch 2/5\n",
            "1875/1875 [==============================] - 3s 2ms/step - loss: 0.3155 - accuracy: 0.9115\n",
            "Epoch 3/5\n",
            "1875/1875 [==============================] - 3s 2ms/step - loss: 0.3031 - accuracy: 0.9152\n",
            "Epoch 4/5\n",
            "1875/1875 [==============================] - 3s 2ms/step - loss: 0.2967 - accuracy: 0.9166\n",
            "Epoch 5/5\n",
            "1875/1875 [==============================] - 3s 2ms/step - loss: 0.2910 - accuracy: 0.9186\n",
            "313/313 - 0s - loss: 0.2993 - accuracy: 0.9178\n"
          ],
          "name": "stdout"
        },
        {
          "output_type": "execute_result",
          "data": {
            "text/plain": [
              "[0.29928305745124817, 0.9178000092506409]"
            ]
          },
          "metadata": {
            "tags": []
          },
          "execution_count": 34
        }
      ]
    },
    {
      "cell_type": "code",
      "metadata": {
        "id": "Li8N8CLij8vv",
        "outputId": "dcfb692c-ea8c-499f-abe1-f56cd9a6bf94",
        "colab": {
          "base_uri": "https://localhost:8080/",
          "height": 233
        }
      },
      "source": [
        "model = tf.keras.models.Sequential([\n",
        "  tf.keras.layers.Flatten(input_shape=(28, 28)),\n",
        "  tf.keras.layers.Dense(128, activation='relu'),\n",
        "  tf.keras.layers.Dropout(0.2),\n",
        "  tf.keras.layers.Dense(10, activation='softmax')\n",
        "])\n",
        "\n",
        "model.compile(optimizer='adam',\n",
        "              loss='sparse_categorical_crossentropy',\n",
        "              metrics=['accuracy'])\n",
        "\n",
        "model.fit(x_train, y_train, epochs=5)\n",
        "model.evaluate(x_test,  y_test, verbose=2)"
      ],
      "execution_count": 35,
      "outputs": [
        {
          "output_type": "stream",
          "text": [
            "Epoch 1/5\n",
            "1875/1875 [==============================] - 4s 2ms/step - loss: 0.2902 - accuracy: 0.9161\n",
            "Epoch 2/5\n",
            "1875/1875 [==============================] - 4s 2ms/step - loss: 0.1370 - accuracy: 0.9586\n",
            "Epoch 3/5\n",
            "1875/1875 [==============================] - 3s 2ms/step - loss: 0.1033 - accuracy: 0.9682\n",
            "Epoch 4/5\n",
            "1875/1875 [==============================] - 4s 2ms/step - loss: 0.0846 - accuracy: 0.9740\n",
            "Epoch 5/5\n",
            "1875/1875 [==============================] - 3s 2ms/step - loss: 0.0728 - accuracy: 0.9771\n",
            "313/313 - 1s - loss: 0.0716 - accuracy: 0.9784\n"
          ],
          "name": "stdout"
        },
        {
          "output_type": "execute_result",
          "data": {
            "text/plain": [
              "[0.07159304618835449, 0.9783999919891357]"
            ]
          },
          "metadata": {
            "tags": []
          },
          "execution_count": 35
        }
      ]
    },
    {
      "cell_type": "markdown",
      "metadata": {
        "id": "0V81LQnAkNxX"
      },
      "source": [
        "\n",
        "\n",
        "*   reul가 있을 때 성능과 정확도가 좋게 나옴\n",
        "*   dropout은 성능게 큰 차이를 주지 못하는 것으로 보임\n",
        "\n"
      ]
    },
    {
      "cell_type": "code",
      "metadata": {
        "id": "wdNRbDC0jY-t",
        "outputId": "fa9f6619-50e1-4364-9000-07113215e164",
        "colab": {
          "base_uri": "https://localhost:8080/",
          "height": 233
        }
      },
      "source": [
        "model = tf.keras.models.Sequential([\n",
        "  tf.keras.layers.Flatten(input_shape=(28, 28)),\n",
        "  tf.keras.layers.Dense(128, activation='relu'),\n",
        "  tf.keras.layers.Dense(128, activation='relu'),\n",
        "  tf.keras.layers.Dense(128, activation='relu'),\n",
        "  tf.keras.layers.Dense(10, activation='softmax')\n",
        "])\n",
        "\n",
        "model.compile(optimizer='adam',\n",
        "              loss='sparse_categorical_crossentropy',\n",
        "              metrics=['accuracy'])\n",
        "\n",
        "model.fit(x_train, y_train, epochs=5)\n",
        "model.evaluate(x_test,  y_test, verbose=2)"
      ],
      "execution_count": 36,
      "outputs": [
        {
          "output_type": "stream",
          "text": [
            "Epoch 1/5\n",
            "1875/1875 [==============================] - 4s 2ms/step - loss: 0.2268 - accuracy: 0.9314\n",
            "Epoch 2/5\n",
            "1875/1875 [==============================] - 4s 2ms/step - loss: 0.0992 - accuracy: 0.9695\n",
            "Epoch 3/5\n",
            "1875/1875 [==============================] - 4s 2ms/step - loss: 0.0695 - accuracy: 0.9784\n",
            "Epoch 4/5\n",
            "1875/1875 [==============================] - 4s 2ms/step - loss: 0.0572 - accuracy: 0.9816\n",
            "Epoch 5/5\n",
            "1875/1875 [==============================] - 4s 2ms/step - loss: 0.0445 - accuracy: 0.9852\n",
            "313/313 - 1s - loss: 0.0941 - accuracy: 0.9739\n"
          ],
          "name": "stdout"
        },
        {
          "output_type": "execute_result",
          "data": {
            "text/plain": [
              "[0.09412439912557602, 0.9739000201225281]"
            ]
          },
          "metadata": {
            "tags": []
          },
          "execution_count": 36
        }
      ]
    },
    {
      "cell_type": "markdown",
      "metadata": {
        "id": "wY06kj1alc6k"
      },
      "source": [
        "**5. Keras API ( Sequential vs Functional)**"
      ]
    },
    {
      "cell_type": "code",
      "metadata": {
        "id": "XqyYuDvklhpP"
      },
      "source": [
        "model = tf.keras.models.Sequential([\n",
        "  tf.keras.layers.Reshape((28, 28, 1)),\n",
        "  tf.keras.layers.Conv2D(16, 3, activation='relu'),\n",
        "  tf.keras.layers.Flatten(),\n",
        "  tf.keras.layers.Dense(128),\n",
        "  tf.keras.layers.Dense(10, activation='softmax')\n",
        "])\n",
        "\n",
        "model.compile(optimizer='adam',\n",
        "              loss='sparse_categorical_crossentropy',\n",
        "              metrics=['accuracy'])"
      ],
      "execution_count": 37,
      "outputs": []
    },
    {
      "cell_type": "code",
      "metadata": {
        "id": "SdKcCiLdlpG7",
        "outputId": "6ca7921a-234e-49a8-8803-e0964c1f0166",
        "colab": {
          "base_uri": "https://localhost:8080/",
          "height": 233
        }
      },
      "source": [
        "model.fit(x_train, y_train, epochs=5)\n",
        "model.evaluate(x_test,  y_test, verbose=2)"
      ],
      "execution_count": 38,
      "outputs": [
        {
          "output_type": "stream",
          "text": [
            "Epoch 1/5\n",
            "1875/1875 [==============================] - 4s 2ms/step - loss: 0.1543 - accuracy: 0.9539\n",
            "Epoch 2/5\n",
            "1875/1875 [==============================] - 4s 2ms/step - loss: 0.0612 - accuracy: 0.9808\n",
            "Epoch 3/5\n",
            "1875/1875 [==============================] - 4s 2ms/step - loss: 0.0417 - accuracy: 0.9865\n",
            "Epoch 4/5\n",
            "1875/1875 [==============================] - 4s 2ms/step - loss: 0.0305 - accuracy: 0.9901\n",
            "Epoch 5/5\n",
            "1875/1875 [==============================] - 4s 2ms/step - loss: 0.0236 - accuracy: 0.9916\n",
            "313/313 - 1s - loss: 0.0856 - accuracy: 0.9793\n"
          ],
          "name": "stdout"
        },
        {
          "output_type": "execute_result",
          "data": {
            "text/plain": [
              "[0.08563069999217987, 0.9793000221252441]"
            ]
          },
          "metadata": {
            "tags": []
          },
          "execution_count": 38
        }
      ]
    },
    {
      "cell_type": "code",
      "metadata": {
        "id": "TxnS9v3rmxJJ"
      },
      "source": [
        "from tensorflow import keras\n",
        "from tensorflow.keras import layers"
      ],
      "execution_count": 39,
      "outputs": []
    },
    {
      "cell_type": "code",
      "metadata": {
        "id": "RBh5tz95mz-t",
        "outputId": "a818f559-1df0-4736-8ccf-94b33a25f46e",
        "colab": {
          "base_uri": "https://localhost:8080/",
          "height": 377
        }
      },
      "source": [
        "inputs = keras.Input(shape=(28, 28))\n",
        "x = layers.Reshape((28, 28, 1))(inputs)\n",
        "x = layers.Conv2D(16, 3, activation='relu')(x)\n",
        "x = layers.Flatten()(x)\n",
        "x = layers.Dense(128)(x)\n",
        "x = layers.Dense(10, activation='softmax')(x)\n",
        "outputs = x\n",
        "\n",
        "model = keras.Model(inputs, outputs)\n",
        "model.summary()"
      ],
      "execution_count": 40,
      "outputs": [
        {
          "output_type": "stream",
          "text": [
            "Model: \"functional_1\"\n",
            "_________________________________________________________________\n",
            "Layer (type)                 Output Shape              Param #   \n",
            "=================================================================\n",
            "input_1 (InputLayer)         [(None, 28, 28)]          0         \n",
            "_________________________________________________________________\n",
            "reshape_1 (Reshape)          (None, 28, 28, 1)         0         \n",
            "_________________________________________________________________\n",
            "conv2d_1 (Conv2D)            (None, 26, 26, 16)        160       \n",
            "_________________________________________________________________\n",
            "flatten_13 (Flatten)         (None, 10816)             0         \n",
            "_________________________________________________________________\n",
            "dense_34 (Dense)             (None, 128)               1384576   \n",
            "_________________________________________________________________\n",
            "dense_35 (Dense)             (None, 10)                1290      \n",
            "=================================================================\n",
            "Total params: 1,386,026\n",
            "Trainable params: 1,386,026\n",
            "Non-trainable params: 0\n",
            "_________________________________________________________________\n"
          ],
          "name": "stdout"
        }
      ]
    },
    {
      "cell_type": "markdown",
      "metadata": {
        "id": "lHaX37oJrs1H"
      },
      "source": [
        "model.summary() 를 통해 모델의 대략적인 구조를 파악해볼 수 있다. 위의 CNN 모델은 1,386,026개의 학습 가능한 파라미터를 가진다."
      ]
    },
    {
      "cell_type": "code",
      "metadata": {
        "id": "0n6VLpJcm1tm",
        "outputId": "6411a526-e6b0-4adf-c0a2-53473e71ff93",
        "colab": {
          "base_uri": "https://localhost:8080/",
          "height": 233
        }
      },
      "source": [
        "model.compile(optimizer='adam',\n",
        "              loss='sparse_categorical_crossentropy',\n",
        "              metrics=['accuracy'])\n",
        "model.fit(x_train, y_train, epochs=5)\n",
        "model.evaluate(x_test,  y_test, verbose=2)"
      ],
      "execution_count": 41,
      "outputs": [
        {
          "output_type": "stream",
          "text": [
            "Epoch 1/5\n",
            "1875/1875 [==============================] - 4s 2ms/step - loss: 0.1562 - accuracy: 0.9537\n",
            "Epoch 2/5\n",
            "1875/1875 [==============================] - 4s 2ms/step - loss: 0.0632 - accuracy: 0.9803\n",
            "Epoch 3/5\n",
            "1875/1875 [==============================] - 4s 2ms/step - loss: 0.0415 - accuracy: 0.9870\n",
            "Epoch 4/5\n",
            "1875/1875 [==============================] - 4s 2ms/step - loss: 0.0295 - accuracy: 0.9904\n",
            "Epoch 5/5\n",
            "1875/1875 [==============================] - 4s 2ms/step - loss: 0.0207 - accuracy: 0.9936\n",
            "313/313 - 1s - loss: 0.0846 - accuracy: 0.9789\n"
          ],
          "name": "stdout"
        },
        {
          "output_type": "execute_result",
          "data": {
            "text/plain": [
              "[0.08459612727165222, 0.9789000153541565]"
            ]
          },
          "metadata": {
            "tags": []
          },
          "execution_count": 41
        }
      ]
    },
    {
      "cell_type": "markdown",
      "metadata": {
        "id": "VuMED8zLy2iN"
      },
      "source": [
        "Keras 모델을 만드는데는 sequential 방법과 functional 방법이 있다.\n",
        "\n",
        "먼저, sequential 방법은 층층이(layer-by-layer) 쌓아 올릴 수 있게 하는 방법으로 대부분 문제를 해결할 수 있다. 하지만, 이 방법은 layer를 공유하는 구조나, 다중 입력/출력을 사용하지는 못한다는 한계가 있다.\n",
        "\n",
        "대신, functional 방법을 사용하면, layer가 앞/뒤 layer에만 연결된 구조뿐 아니라 훨씬 더 자유자재로 그 구조를 정의하여 사용할 수 있게된다. layer들을 어떤 layer에든지 연결해서 사용할 수 있는 것이다. 그래서 siamese 네트워크와 residual 네트워크 같은 복잡한 구조의 네트워크를 만들 수 있게 된다\n"
      ]
    },
    {
      "cell_type": "markdown",
      "metadata": {
        "id": "n5uHg-fCoRhf"
      },
      "source": [
        "**5. Pooling의 사용**"
      ]
    },
    {
      "cell_type": "code",
      "metadata": {
        "id": "I8N8uYe1oUWl",
        "outputId": "910be443-0e58-40ac-df85-0fb3ba293a15",
        "colab": {
          "base_uri": "https://localhost:8080/",
          "height": 413
        }
      },
      "source": [
        "inputs = keras.Input(shape=(28, 28))\n",
        "x = layers.Reshape((28, 28, 1))(inputs)\n",
        "x = layers.Conv2D(16, 3, activation='relu')(x)\n",
        "x = layers.MaxPooling2D(2)(x)\n",
        "x = layers.Flatten()(x)\n",
        "x = layers.Dense(128)(x)\n",
        "x = layers.Dense(10, activation='softmax')(x)\n",
        "outputs = x\n",
        "\n",
        "model = keras.Model(inputs, outputs)\n",
        "model.summary()"
      ],
      "execution_count": 22,
      "outputs": [
        {
          "output_type": "stream",
          "text": [
            "Model: \"model_1\"\n",
            "_________________________________________________________________\n",
            "Layer (type)                 Output Shape              Param #   \n",
            "=================================================================\n",
            "input_2 (InputLayer)         [(None, 28, 28)]          0         \n",
            "_________________________________________________________________\n",
            "reshape_3 (Reshape)          (None, 28, 28, 1)         0         \n",
            "_________________________________________________________________\n",
            "conv2d_3 (Conv2D)            (None, 26, 26, 16)        160       \n",
            "_________________________________________________________________\n",
            "max_pooling2d (MaxPooling2D) (None, 13, 13, 16)        0         \n",
            "_________________________________________________________________\n",
            "flatten_13 (Flatten)         (None, 2704)              0         \n",
            "_________________________________________________________________\n",
            "dense_32 (Dense)             (None, 128)               346240    \n",
            "_________________________________________________________________\n",
            "dense_33 (Dense)             (None, 10)                1290      \n",
            "=================================================================\n",
            "Total params: 347,690\n",
            "Trainable params: 347,690\n",
            "Non-trainable params: 0\n",
            "_________________________________________________________________\n"
          ],
          "name": "stdout"
        }
      ]
    },
    {
      "cell_type": "markdown",
      "metadata": {
        "id": "nlGTUR17y4gE"
      },
      "source": [
        "model.summary() 를 통해 모델의 대략적인 구조를 파악해볼 수 있다. 위의 CNN 모델은 1,386,026개의 학습 가능한 파라미터를 가진다."
      ]
    },
    {
      "cell_type": "code",
      "metadata": {
        "id": "Wkr8dFgdoXBv",
        "outputId": "2e0c9ba5-e6a5-4e11-b9d0-447d76f429ac",
        "colab": {
          "base_uri": "https://localhost:8080/",
          "height": 307
        }
      },
      "source": [
        "model.compile(optimizer='adam',\n",
        "              loss='sparse_categorical_crossentropy',\n",
        "              metrics=['accuracy'])\n",
        "model.fit(x_train, y_train, epochs=5)\n",
        "model.evaluate(x_test,  y_test, verbose=2)"
      ],
      "execution_count": 23,
      "outputs": [
        {
          "output_type": "stream",
          "text": [
            "Train on 60000 samples\n",
            "Epoch 1/5\n",
            "WARNING:tensorflow:Entity <function Function._initialize_uninitialized_variables.<locals>.initialize_variables at 0x7f9a271cfe18> could not be transformed and will be executed as-is. Please report this to the AutoGraph team. When filing the bug, set the verbosity to 10 (on Linux, `export AUTOGRAPH_VERBOSITY=10`) and attach the full output. Cause: module 'gast' has no attribute 'Num'\n",
            "WARNING: Entity <function Function._initialize_uninitialized_variables.<locals>.initialize_variables at 0x7f9a271cfe18> could not be transformed and will be executed as-is. Please report this to the AutoGraph team. When filing the bug, set the verbosity to 10 (on Linux, `export AUTOGRAPH_VERBOSITY=10`) and attach the full output. Cause: module 'gast' has no attribute 'Num'\n",
            "60000/60000 [==============================] - 36s 604us/sample - loss: 0.1562 - accuracy: 0.9533\n",
            "Epoch 2/5\n",
            "60000/60000 [==============================] - 34s 574us/sample - loss: 0.0677 - accuracy: 0.9794\n",
            "Epoch 3/5\n",
            "60000/60000 [==============================] - 34s 572us/sample - loss: 0.0517 - accuracy: 0.9842\n",
            "Epoch 4/5\n",
            "60000/60000 [==============================] - 34s 572us/sample - loss: 0.0407 - accuracy: 0.9875\n",
            "Epoch 5/5\n",
            "60000/60000 [==============================] - 34s 571us/sample - loss: 0.0331 - accuracy: 0.9895\n",
            "10000/1 - 2s - loss: 0.0316 - accuracy: 0.9828\n"
          ],
          "name": "stdout"
        },
        {
          "output_type": "execute_result",
          "data": {
            "text/plain": [
              "[0.05949438586093602, 0.9828]"
            ]
          },
          "metadata": {
            "tags": []
          },
          "execution_count": 23
        }
      ]
    },
    {
      "cell_type": "markdown",
      "metadata": {
        "id": "vOHbBxYqzsXq"
      },
      "source": [
        ""
      ]
    },
    {
      "cell_type": "markdown",
      "metadata": {
        "id": "xU9pkXsJoekj"
      },
      "source": [
        "**7. 조금더 깊은 layer**"
      ]
    },
    {
      "cell_type": "code",
      "metadata": {
        "id": "4PvPRX2rocxt",
        "outputId": "939c9fb1-4f62-4f8e-b696-be0351a6f7d3",
        "colab": {
          "base_uri": "https://localhost:8080/",
          "height": 485
        }
      },
      "source": [
        "inputs = keras.Input(shape=(28, 28))\n",
        "x = layers.Reshape((28, 28, 1))(inputs)\n",
        "x = layers.Conv2D(16, 3, activation='relu')(x)\n",
        "x = layers.MaxPooling2D(2)(x)\n",
        "x = layers.Conv2D(32, 3, activation='relu')(x)\n",
        "x = layers.MaxPooling2D(2)(x)\n",
        "x = layers.Flatten()(x)\n",
        "x = layers.Dense(128)(x)\n",
        "x = layers.Dense(10, activation='softmax')(x)\n",
        "outputs = x\n",
        "\n",
        "model = keras.Model(inputs, outputs)\n",
        "model.summary()"
      ],
      "execution_count": 28,
      "outputs": [
        {
          "output_type": "stream",
          "text": [
            "Model: \"model_2\"\n",
            "_________________________________________________________________\n",
            "Layer (type)                 Output Shape              Param #   \n",
            "=================================================================\n",
            "input_3 (InputLayer)         [(None, 28, 28)]          0         \n",
            "_________________________________________________________________\n",
            "reshape_4 (Reshape)          (None, 28, 28, 1)         0         \n",
            "_________________________________________________________________\n",
            "conv2d_4 (Conv2D)            (None, 26, 26, 16)        160       \n",
            "_________________________________________________________________\n",
            "max_pooling2d_1 (MaxPooling2 (None, 13, 13, 16)        0         \n",
            "_________________________________________________________________\n",
            "conv2d_5 (Conv2D)            (None, 11, 11, 32)        4640      \n",
            "_________________________________________________________________\n",
            "max_pooling2d_2 (MaxPooling2 (None, 5, 5, 32)          0         \n",
            "_________________________________________________________________\n",
            "flatten_14 (Flatten)         (None, 800)               0         \n",
            "_________________________________________________________________\n",
            "dense_34 (Dense)             (None, 128)               102528    \n",
            "_________________________________________________________________\n",
            "dense_35 (Dense)             (None, 10)                1290      \n",
            "=================================================================\n",
            "Total params: 108,618\n",
            "Trainable params: 108,618\n",
            "Non-trainable params: 0\n",
            "_________________________________________________________________\n"
          ],
          "name": "stdout"
        }
      ]
    },
    {
      "cell_type": "code",
      "metadata": {
        "id": "5wBCQCcVojSC",
        "outputId": "9427ec12-f256-44f9-8190-c5652a73f888",
        "colab": {
          "base_uri": "https://localhost:8080/",
          "height": 307
        }
      },
      "source": [
        "model.compile(optimizer='adam',\n",
        "              loss='sparse_categorical_crossentropy',\n",
        "              metrics=['accuracy'])\n",
        "model.fit(x_train, y_train, epochs=5)\n",
        "model.evaluate(x_test,  y_test, verbose=2)"
      ],
      "execution_count": 29,
      "outputs": [
        {
          "output_type": "stream",
          "text": [
            "Train on 60000 samples\n",
            "Epoch 1/5\n",
            "WARNING:tensorflow:Entity <function Function._initialize_uninitialized_variables.<locals>.initialize_variables at 0x7f9a27352620> could not be transformed and will be executed as-is. Please report this to the AutoGraph team. When filing the bug, set the verbosity to 10 (on Linux, `export AUTOGRAPH_VERBOSITY=10`) and attach the full output. Cause: module 'gast' has no attribute 'Num'\n",
            "WARNING: Entity <function Function._initialize_uninitialized_variables.<locals>.initialize_variables at 0x7f9a27352620> could not be transformed and will be executed as-is. Please report this to the AutoGraph team. When filing the bug, set the verbosity to 10 (on Linux, `export AUTOGRAPH_VERBOSITY=10`) and attach the full output. Cause: module 'gast' has no attribute 'Num'\n",
            "60000/60000 [==============================] - 42s 706us/sample - loss: 0.1445 - accuracy: 0.9556\n",
            "Epoch 2/5\n",
            "60000/60000 [==============================] - 42s 701us/sample - loss: 0.0533 - accuracy: 0.9835\n",
            "Epoch 3/5\n",
            "60000/60000 [==============================] - 42s 694us/sample - loss: 0.0394 - accuracy: 0.9873\n",
            "Epoch 4/5\n",
            "60000/60000 [==============================] - 41s 690us/sample - loss: 0.0317 - accuracy: 0.9899\n",
            "Epoch 5/5\n",
            "60000/60000 [==============================] - 42s 694us/sample - loss: 0.0263 - accuracy: 0.9916\n",
            "10000/1 - 3s - loss: 0.0176 - accuracy: 0.9884\n"
          ],
          "name": "stdout"
        },
        {
          "output_type": "execute_result",
          "data": {
            "text/plain": [
              "[0.03441185582805774, 0.9884]"
            ]
          },
          "metadata": {
            "tags": []
          },
          "execution_count": 29
        }
      ]
    },
    {
      "cell_type": "markdown",
      "metadata": {
        "id": "aVmwr0sqol51"
      },
      "source": [
        "결과 Pooling layer는 이미지의 크기를 작게 만듦으로써 정보의 손실을 가져온다고 볼수도 있다. 하지만 Flatten layer가 있는 모델의 구조상 pooling layer를 통해서 전체 모델의 parameter 양은 되려 줄어든다."
      ]
    },
    {
      "cell_type": "markdown",
      "metadata": {
        "id": "nbmYDtTConIv"
      },
      "source": [
        "**8. Padding의 유무**"
      ]
    },
    {
      "cell_type": "code",
      "metadata": {
        "id": "pX6GpDNaopuX",
        "outputId": "6511ea8c-1aa0-4e32-9dbe-e513effb3612",
        "colab": {
          "base_uri": "https://localhost:8080/",
          "height": 485
        }
      },
      "source": [
        "inputs = keras.Input(shape=(28, 28))\n",
        "x = layers.Reshape((28, 28, 1))(inputs)\n",
        "x = layers.Conv2D(16, 3, activation='relu',padding=\"same\")(x)\n",
        "x = layers.MaxPooling2D(2)(x)\n",
        "x = layers.Conv2D(32, 3, activation='relu',padding=\"same\")(x)\n",
        "x = layers.MaxPooling2D(2)(x)\n",
        "x = layers.Flatten()(x)\n",
        "x = layers.Dense(128)(x)\n",
        "x = layers.Dense(10, activation='softmax')(x)\n",
        "outputs = x\n",
        "\n",
        "model = keras.Model(inputs, outputs)\n",
        "model.summary()"
      ],
      "execution_count": 30,
      "outputs": [
        {
          "output_type": "stream",
          "text": [
            "Model: \"model_3\"\n",
            "_________________________________________________________________\n",
            "Layer (type)                 Output Shape              Param #   \n",
            "=================================================================\n",
            "input_4 (InputLayer)         [(None, 28, 28)]          0         \n",
            "_________________________________________________________________\n",
            "reshape_5 (Reshape)          (None, 28, 28, 1)         0         \n",
            "_________________________________________________________________\n",
            "conv2d_6 (Conv2D)            (None, 28, 28, 16)        160       \n",
            "_________________________________________________________________\n",
            "max_pooling2d_3 (MaxPooling2 (None, 14, 14, 16)        0         \n",
            "_________________________________________________________________\n",
            "conv2d_7 (Conv2D)            (None, 14, 14, 32)        4640      \n",
            "_________________________________________________________________\n",
            "max_pooling2d_4 (MaxPooling2 (None, 7, 7, 32)          0         \n",
            "_________________________________________________________________\n",
            "flatten_15 (Flatten)         (None, 1568)              0         \n",
            "_________________________________________________________________\n",
            "dense_36 (Dense)             (None, 128)               200832    \n",
            "_________________________________________________________________\n",
            "dense_37 (Dense)             (None, 10)                1290      \n",
            "=================================================================\n",
            "Total params: 206,922\n",
            "Trainable params: 206,922\n",
            "Non-trainable params: 0\n",
            "_________________________________________________________________\n"
          ],
          "name": "stdout"
        }
      ]
    },
    {
      "cell_type": "code",
      "metadata": {
        "id": "d6Xm8i1yosCy",
        "outputId": "98b9998f-f6f5-46ee-b56a-e5f405ef08f7",
        "colab": {
          "base_uri": "https://localhost:8080/",
          "height": 307
        }
      },
      "source": [
        "model.compile(optimizer='adam',\n",
        "              loss='sparse_categorical_crossentropy',\n",
        "              metrics=['accuracy'])\n",
        "model.fit(x_train, y_train, epochs=5)\n",
        "model.evaluate(x_test,  y_test, verbose=2)"
      ],
      "execution_count": 31,
      "outputs": [
        {
          "output_type": "stream",
          "text": [
            "Train on 60000 samples\n",
            "Epoch 1/5\n",
            "WARNING:tensorflow:Entity <function Function._initialize_uninitialized_variables.<locals>.initialize_variables at 0x7f9a21fcf0d0> could not be transformed and will be executed as-is. Please report this to the AutoGraph team. When filing the bug, set the verbosity to 10 (on Linux, `export AUTOGRAPH_VERBOSITY=10`) and attach the full output. Cause: module 'gast' has no attribute 'Num'\n",
            "WARNING: Entity <function Function._initialize_uninitialized_variables.<locals>.initialize_variables at 0x7f9a21fcf0d0> could not be transformed and will be executed as-is. Please report this to the AutoGraph team. When filing the bug, set the verbosity to 10 (on Linux, `export AUTOGRAPH_VERBOSITY=10`) and attach the full output. Cause: module 'gast' has no attribute 'Num'\n",
            "60000/60000 [==============================] - 52s 867us/sample - loss: 0.1341 - accuracy: 0.9585\n",
            "Epoch 2/5\n",
            "60000/60000 [==============================] - 51s 852us/sample - loss: 0.0487 - accuracy: 0.9844\n",
            "Epoch 3/5\n",
            "60000/60000 [==============================] - 51s 856us/sample - loss: 0.0382 - accuracy: 0.9876\n",
            "Epoch 4/5\n",
            "60000/60000 [==============================] - 51s 858us/sample - loss: 0.0288 - accuracy: 0.9908\n",
            "Epoch 5/5\n",
            "60000/60000 [==============================] - 52s 861us/sample - loss: 0.0254 - accuracy: 0.9919\n",
            "10000/1 - 3s - loss: 0.0187 - accuracy: 0.9893\n"
          ],
          "name": "stdout"
        },
        {
          "output_type": "execute_result",
          "data": {
            "text/plain": [
              "[0.03719957101760156, 0.9893]"
            ]
          },
          "metadata": {
            "tags": []
          },
          "execution_count": 31
        }
      ]
    },
    {
      "cell_type": "markdown",
      "metadata": {
        "id": "BkRigzL4sm4j"
      },
      "source": [
        "학습 및 검증 결과 검증 정확도 98.11%로 간단한 모델 치고는 나쁘지 않은 성능이 나왔다."
      ]
    }
  ]
}