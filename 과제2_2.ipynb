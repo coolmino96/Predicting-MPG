{
  "nbformat": 4,
  "nbformat_minor": 0,
  "metadata": {
    "colab": {
      "name": "과제2-2.ipynb",
      "provenance": [],
      "authorship_tag": "ABX9TyPpnjhmcWMKmAtuvjmjboOz",
      "include_colab_link": true
    },
    "kernelspec": {
      "name": "python3",
      "display_name": "Python 3"
    },
    "accelerator": "GPU"
  },
  "cells": [
    {
      "cell_type": "markdown",
      "metadata": {
        "id": "view-in-github",
        "colab_type": "text"
      },
      "source": [
        "<a href=\"https://colab.research.google.com/github/coolmino96/Predicting-MPG/blob/master/%EA%B3%BC%EC%A0%9C2_2.ipynb\" target=\"_parent\"><img src=\"https://colab.research.google.com/assets/colab-badge.svg\" alt=\"Open In Colab\"/></a>"
      ]
    },
    {
      "cell_type": "code",
      "metadata": {
        "id": "EfR-hu2itrUl",
        "outputId": "af7dc352-31c7-436d-ac3a-f397d50c718e",
        "colab": {
          "base_uri": "https://localhost:8080/",
          "height": 479
        }
      },
      "source": [
        "from keras.datasets import mnist\n",
        "from keras.utils import np_utils\n",
        "from keras.models import Sequential\n",
        "from keras.layers import Dense, Conv2D, MaxPooling2D, Dropout, Flatten\n",
        "from keras.callbacks import ModelCheckpoint, EarlyStopping\n",
        "\n",
        "import matplotlib.pyplot as plt\n",
        "import os\n",
        "import numpy\n",
        "\n",
        "MODEL_SAVE_FOLDER_PATH = './model/'\n",
        "\n",
        "if not os.path.exists(MODEL_SAVE_FOLDER_PATH):\n",
        "  os.mkdir(MODEL_SAVE_FOLDER_PATH)\n",
        "\n",
        "model_path = MODEL_SAVE_FOLDER_PATH + 'mnist-' + '{epoch:02d}-{val_loss:.4f}.hdf5'\n",
        "\n",
        "cb_checkpoint = ModelCheckpoint(filepath=model_path, monitor='val_loss',\n",
        "                                verbose=1, save_best_only=True)\n",
        "\n",
        "cb_early_stopping = EarlyStopping(monitor='val_loss', patience=10)\n",
        "\n",
        "(X_train, Y_train), (X_validation, Y_validation) = mnist.load_data()\n",
        "\n",
        "X_train = X_train.reshape(X_train.shape[0], 28, 28, 1).astype('float32') / 255\n",
        "X_validation = X_validation.reshape(X_validation.shape[0], 28, 28, 1).astype('float32') / 255\n",
        "\n",
        "Y_train = np_utils.to_categorical(Y_train, 10)\n",
        "Y_validation = np_utils.to_categorical(Y_validation, 10)\n",
        "\n",
        "model = Sequential()\n",
        "model.add(Conv2D(32, kernel_size=(3, 3), input_shape=(28, 28, 1), activation='relu'))\n",
        "model.add(Conv2D(64, (3, 3), activation='relu'))\n",
        "model.add(MaxPooling2D(pool_size=2))\n",
        "model.add(Dropout(0.25))\n",
        "model.add(Flatten())\n",
        "model.add(Dense(128, activation='relu'))\n",
        "model.add(Dropout(0.5))\n",
        "model.add(Dense(10, activation='softmax'))\n",
        "\n",
        "model.compile(loss='categorical_crossentropy',\n",
        "              optimizer='adam',\n",
        "              metrics=['accuracy'])\n",
        "\n",
        "history = model.fit(X_train, Y_train,\n",
        "                    validation_data=(X_validation, Y_validation),\n",
        "                    epochs=3, batch_size=200, verbose=0,\n",
        "                    callbacks=[cb_checkpoint, cb_early_stopping])\n",
        "\n",
        "print('\\nAccuracy: {:.4f}'.format(model.evaluate(X_validation, Y_validation)[1]))\n",
        "\n",
        "y_vloss = history.history['val_loss']\n",
        "y_loss = history.history['loss']\n",
        "\n",
        "x_len = numpy.arange(len(y_loss))\n",
        "plt.plot(x_len, y_loss, marker='.', c='blue', label=\"Train-set Loss\")\n",
        "plt.plot(x_len, y_vloss, marker='.', c='red', label=\"Validation-set Loss\")\n",
        "\n",
        "plt.legend(loc='upper right')\n",
        "plt.grid()\n",
        "plt.xlabel('epoch')\n",
        "plt.ylabel('loss')\n",
        "plt.show()"
      ],
      "execution_count": 2,
      "outputs": [
        {
          "output_type": "stream",
          "text": [
            "WARNING:tensorflow:Callbacks method `on_train_batch_end` is slow compared to the batch time (batch time: 0.0043s vs `on_train_batch_end` time: 0.0189s). Check your callbacks.\n",
            "\n",
            "Epoch 00001: val_loss improved from inf to 0.05715, saving model to ./model/mnist-01-0.0571.hdf5\n",
            "\n",
            "Epoch 00002: val_loss improved from 0.05715 to 0.03891, saving model to ./model/mnist-02-0.0389.hdf5\n",
            "\n",
            "Epoch 00003: val_loss improved from 0.03891 to 0.03715, saving model to ./model/mnist-03-0.0371.hdf5\n",
            "313/313 [==============================] - 1s 4ms/step - loss: 0.0371 - accuracy: 0.9886\n",
            "\n",
            "Accuracy: 0.9886\n"
          ],
          "name": "stdout"
        },
        {
          "output_type": "display_data",
          "data": {
            "image/png": "[encoded data removed]",
            "text/plain": [
              "<Figure size 432x288 with 1 Axes>"
            ]
          },
          "metadata": {
            "tags": [],
            "needs_background": "light"
          }
        }
      ]
    },
    {
      "cell_type": "markdown",
      "metadata": {
        "id": "bn1MXT73uNwU"
      },
      "source": [
        "\n",
        "\n",
        "* 32개의 필터를 적용하였음\n",
        "* 필터의 크기는 3*3\n",
        "* 행열은 28*28로 흑백색상임\n",
        "* 맥스 풀링은 정해진 영역 안에서 가장 큰 값만 남기고 나머지는 버리는 방식으로 pool_size는 풀링 윈도우 크기이며 2의 값은 전체 크기를 절반으로 줄임\n",
        "* Dropout()는 특정 노드에 학습이 지나치게 몰리는 것을 방지하기 위해 랜덤하게 일부 노드를 꺼주는 역할을 하고 Dropout을 통해 과적합을 조금 더 효과적으로 회피할 수 있음.\n",
        "* 실행 결과 현재 사용하고 있는 PC의 GPU 성능이 낮아 GPU 가속을 받을 수 없는 상황이라 epoch 값을 3으로 했더니 위와 같은 결과가 나왔습니다. 환경이 좋은데서는 epoch 값을 더 늘려서 좀 더 성능이 좋은 모델을 얻을 수 있을 것입니다.\n",
        "\n",
        "\n",
        "\n"
      ]
    }
  ]
}